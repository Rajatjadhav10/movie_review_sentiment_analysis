{
 "cells": [
  {
   "cell_type": "code",
   "execution_count": null,
   "metadata": {
    "colab": {
     "base_uri": "https://localhost:8080/"
    },
    "id": "byOolnxWSrHY",
    "outputId": "e53f19ac-b631-4647-d320-2d5f2869c12b"
   },
   "outputs": [],
   "source": [
    "!pip install datasets\n",
    "\n"
   ]
  },
  {
   "cell_type": "code",
   "execution_count": null,
   "metadata": {
    "colab": {
     "base_uri": "https://localhost:8080/",
     "height": 618,
     "referenced_widgets": [
      "4e92dd7999fd404cb7a475a9fbc6e2e3",
      "cf8ee8b186b548d5a286c7a13f7f9934",
      "d7c685347b5f42379cf4ba0d949b6163",
      "c375b92b5d2b443caec2357da76aba0d",
      "9a42590928264a129dc3b1b589c36887",
      "a2c12048ac2d4333a322eb79790aad80",
      "f92d66c4c8c04803a7ac8ae23b29a7fc",
      "b6d5535eefa64cc19d08bf5403c0dc0a",
      "12ebf449d2f44ea9aab149d8fe8fa385",
      "535bf04222ff456ab0bb0e4762663499",
      "e0b4df0f3b134bd6bce5a00e6fdcb9bf",
      "19440e013c03477aaa459e3279030f49",
      "db0eadea365a467bb34a6e3cb46397a1",
      "c434222dd54c43839d63ee4a221ed1ce",
      "f6864cdadb30414b8c3e67d60b2e8d1d",
      "c59c809227c24d7d8c74048217aa8226",
      "9aac310a880b4874b0c1707a4edece3d",
      "9dc54ea585f748fcaeac915da2db4355",
      "3bb2c5b01d6a4c0db919195952ba2dea",
      "689eb66fd945487aacb050184d7680b0",
      "51ad3fb5f56946b9a2446e8531269928",
      "618bb9e16cbc4289b057c0f0ab771d98",
      "dc6611d2cd7b430a9f05061009a3903f",
      "c988d950accf4767a67f2c2638e9d223",
      "c764ef8582b745179c980c7c0753a444",
      "fdc97290f1ba4f84a3bf3587f33b3c4a",
      "b0511040d1184fa6ab0a59bef06e3fc3",
      "b05fd9b2361f427fb759768c848552c7",
      "5870696bca364e39a5cac8d747cb70ca",
      "55f478c5adca46f197737c41013da20d",
      "56b4dfc7621c4ee0ad664713ac12307b",
      "071881945b57482f912da9d7119aedcb",
      "0904bc0f6b534f6f9b4a6e214f811cb8",
      "c721adf27beb4dff81ea6bdcdedf43df",
      "131ac613d2a1427f9d4868d4c0c3f738",
      "48bcbd54a9db473d9ad7dfe228f8136a",
      "84b2b149b9fc4bf5be68443a3d65a2f7",
      "58ec5dda3e6c4e248a690202257abe94",
      "be0b0f292bbe4844a390ca8ccfff6d0a",
      "b961ab130f6740828fc804c2dbb8134b",
      "e34b299e150942f384c6b396dc64355f",
      "7183aea7c2684652b434d6fe1d97cef1",
      "8fe9a002ed8945abbdff9e3f1150d4af",
      "7d81f8a5c7bb41a194a1c1f960189482",
      "d8b897af5d634c29b8a4938df6a18113",
      "7b50c67be6e3402ea32f51dd9f79da6a",
      "80163ffb1c804b6cbe2c03ca44b55948",
      "0581a30e99e94a09bec86273ec44f8f0",
      "51b375cca1084761955ae10524384093",
      "c9e2be510fda46f99dafa0210a0c47bc",
      "9697be8ee0864c4e92c90d3acfd11cab",
      "12bd3a9300cd47b38f492d0d64046f2d",
      "b4d94708301d4cb1bbd27316144dae47",
      "3c7309449d0d4977b3cb581ba6888808",
      "14fd772dbfee4cbd9442b9cf225f36ec",
      "0741c78d584d4380a27887158f964e67",
      "d814124ed5f7487e86ef3c64e53a5ceb",
      "e5c8305fad3b40079e7a52cb4c90c52d",
      "eb51bc0de1bc4fd9ae5ce74d61542975",
      "fce5fcbc5cbe4055a6b8557cbe6fc761",
      "4270a4939e16485c9495ac8016c560be",
      "8f69ae0e4b284250bb5354b8ac514309",
      "44f1da2c1a38467f94ac998afbae6a53",
      "b63216fd3c9a4b79ae4d6bf08f9c9ead",
      "b58b77ae3cee4afe9d1390a63151c7b1",
      "bc0c018d292443b7a7463b9022320ec1",
      "7ef8973f227c455c9976a5f6784f9bd2",
      "71668abd316748c6948ea0ee72c77c46",
      "ca9ff3dfb4d44bc284b6600eae5104ad",
      "a1226275a82c4e5bb7b136eec8fdaf29",
      "8dce248ddd78454f8ce389ae45c05688",
      "4042fcbb67b14699b8ff38dbdc9e2318",
      "79f86f835c7a40cd9b586945f8b79247",
      "b0ec9a06f92e4541b25eff09a2dc858a",
      "08bedea729244d17a6915f8ace168433",
      "f49be9979e394fd98d5b6ea493432bb4",
      "57ba4cefd4344808b84f250fa77a5dfb"
     ]
    },
    "id": "YhQzEyz2UsFR",
    "outputId": "4fa62dc0-110d-460e-f271-e1fa5a5b0876"
   },
   "outputs": [],
   "source": [
    "from datasets import load_dataset\n",
    "\n",
    "data = load_dataset(\"rotten_tomatoes\")\n",
    "data"
   ]
  },
  {
   "cell_type": "code",
   "execution_count": null,
   "metadata": {
    "colab": {
     "base_uri": "https://localhost:8080/"
    },
    "id": "PMnE4EGYVCCg",
    "outputId": "e4064bc6-e668-41ec-fb5d-714e19853cda"
   },
   "outputs": [],
   "source": [
    "data[\"train\"][0,-1]"
   ]
  },
  {
   "cell_type": "code",
   "execution_count": null,
   "metadata": {
    "colab": {
     "base_uri": "https://localhost:8080/",
     "height": 386,
     "referenced_widgets": [
      "5c0443d60a4f4cee931bb2afc562af7c",
      "5a4492f78b5c42a6bb67bdd62de1d92f",
      "6894d844fbd64b4180d344a82709c443",
      "508394c560ac4c5197edd4bb41b6d119",
      "e9d7c9e3e2b54773a09b438367edf3f0",
      "fd4b7858364b4170aaf2a69e292c4e59",
      "787b1b3126f5450e9554fdd24177d671",
      "e6711eebcbf24eee8d931e24baddc27a",
      "1f7f2e3a75fa4a2fbaa5148ee9a319a2",
      "f3a5610fc94b408f8d56bb5545cc8a19",
      "e5b9a26e20424b3eb324560a5e1b93d1",
      "202f1e8b00394c7e901bc3419113866b",
      "fbec9892eee7416a92512e7cf661f612",
      "48bbc08fb0814726933b133f1668b609",
      "61924cdc175141b798e5bd696ed2040d",
      "1c2080eb6b444e8f888bdc20f334cdf4",
      "028e8449b69d409f9cd515fcd8861615",
      "7bee4cb85406433daaed953f3454091c",
      "7b8df5591a2945e6960200a59647ed8a",
      "0ce53ed2c31d4433b693eead30c9b792",
      "3152942aa9d24e7abc983b931143da00",
      "4abcdf3f272a4c20afbfdbd147f91875",
      "7ab1b644113e42458e600cee0f3e56b3",
      "d344531819fc4ff79b90aaac48c60a1f",
      "5f9ad5e5ade1403984306373bd7bda52",
      "2481289e6f1b4ff4908114b61a291c0e",
      "da7d0c7d7ab843d282530d0d5a240b6c",
      "9f42c80c97484cd7a9f54b15cfeb459f",
      "d98b4cfcb3b4494a87068e9e778fef2c",
      "40e5ed1d0d034deabe9c24e43908d668",
      "0e368fcb5e6b4c6882c5532add9ca8ac",
      "8d4cf0601d444d3cb3b54ea10021cb7c",
      "853f45c768d1428db59045c14d9d28a4",
      "7c47e25445554a639b7f0c3af1fe2884",
      "a8916dc1fd8c4d32a1653995c1d0786f",
      "44d3de9105194bb89acab511d548efe9",
      "a321aed8a805425ebf71dd8d2308f4e3",
      "ae5eb44f744145bea95bf706e22fc794",
      "5e3167d319e646a9bea738b750d87a48",
      "7f35f6340f3f4fd5939324f62a751bfc",
      "09d73b59f1b44c189b5bfc31b3b198ee",
      "36b6491bc8884e59845d965c8bb24712",
      "a70f2f7a425d4a5180c3716a7cd34ec9",
      "84467d825d1941fb8a99529ab0d57e7e",
      "1ee412cda6a64f949d49963b95de430b",
      "3470459353ba4643a9724d8d21354457",
      "c9cd8ce715cf4b95b0ce3f9b9c9d9655",
      "ef4a0c6898634d5f91060a4df57f7fb0",
      "70a4fe84cc2f4bc3ad218a15b66fc948",
      "9641287dd1884be7a9785156e9ffd12f",
      "c61c19b1f3c1416198152813a33c86b2",
      "725d3061e1834f77aee84ea41c4e50de",
      "5eec9b4f801b42e48783162e94e06b4f",
      "b9f2f8eb614b4c6b9c0d25b338249fce",
      "c783d24d51bf4ede86baa49f4abd785d",
      "0b75936f53994e7da4155aa44a91e4c8",
      "788dc8c579b94903ba9cb25e35d40371",
      "1bab8fbf1e8a4d46bf7b0e617d7903f5",
      "7261d46bb1ec4e4bb9c61ccc69e5df00",
      "f1cc256698964fe59bae35edea0ed49c",
      "6eb1709d40b34663a0443e2f7fda61b4",
      "8c7643281eaa4f59afa5fcc3e0dc9bc3",
      "f419881a020e429a82e919bc7fda06db",
      "f0289347cc0f45309ad13a577cad7e0f",
      "95e73b0f05ed4c709aecb93d44171d19",
      "a417f7f8bb974821b5fca9a2ea54338d",
      "4af204978e2047daae9480d73a163baf",
      "a2551108ffd0481b890d286e6ab44b1d",
      "f76fa95ed5ee44308d5046ac30657113",
      "ad2cf7395a874039adcf21e4ddcdff18",
      "e5f8caa767e2416c9be78b2a23b21211",
      "4516fafb68754256904689494530af2b",
      "488dee1df82b49ad8df748c37f1ee354",
      "911615842d324419b423d6c67bfccf52",
      "f1a0695d29d54cf8a77b0b8da8099200",
      "f11d4a264948437aa497f7a3f62ffaba",
      "f47226f17c23435fa8360edfe352fa5a"
     ]
    },
    "id": "OIk7g_AjWkAv",
    "outputId": "086a8231-2103-4710-b2ef-8c593664fa10"
   },
   "outputs": [],
   "source": [
    "from transformers import pipeline\n",
    "\n",
    "model_path = \"cardiffnlp/twitter-roberta-base-sentiment-latest\"\n",
    "\n",
    "pipe = pipeline(model = model_path, tokenizer= model_path, return_all_scores=True, device =\"cuda:0\")\n"
   ]
  },
  {
   "cell_type": "code",
   "execution_count": null,
   "metadata": {
    "colab": {
     "base_uri": "https://localhost:8080/"
    },
    "id": "OUU1dYivXgp-",
    "outputId": "1ff41a6d-6873-491d-f197-198d4499981b"
   },
   "outputs": [],
   "source": [
    "import numpy as np\n",
    "from tqdm import tqdm\n",
    "from transformers.pipelines.pt_utils import KeyDataset\n",
    "\n",
    "y_pred= []\n",
    "for output in tqdm(pipe(KeyDataset(data[\"test\"],\"text\")), total =len(data[\"test\"])):\n",
    "  negative_score = output[0][\"score\"]\n",
    "  positive_score = output[2][\"score\"]\n",
    "  assignemnt = np.argmax([negative_score, positive_score])\n",
    "  y_pred.append(assignemnt)\n",
    "\n"
   ]
  },
  {
   "cell_type": "code",
   "execution_count": null,
   "metadata": {
    "colab": {
     "base_uri": "https://localhost:8080/"
    },
    "id": "AmkaJ8-kbBsM",
    "outputId": "8fdb98a7-db0e-4747-bccb-d971352a46a4"
   },
   "outputs": [],
   "source": [
    "from sklearn.metrics import classification_report\n",
    "\n",
    "def evaluate_per(y_true, y_pred):\n",
    "  performance = classification_report(y_true, y_pred, target_names = [\"Negative Review\", \"Positive Review\"])\n",
    "  print(performance)\n",
    "\n",
    "evaluate_per(data[\"test\"][\"label\"], y_pred)"
   ]
  },
  {
   "cell_type": "code",
   "execution_count": null,
   "metadata": {
    "colab": {
     "base_uri": "https://localhost:8080/",
     "height": 311,
     "referenced_widgets": [
      "c97a9dbfdaae4580a6d8105ac1b6f4e6",
      "f43c2e0c7b9946849e357803a956ba47",
      "1a0ae1fbd5fd4adf91ef6e363d4d3e98",
      "ed0f72d8be064ec791640c87af7cf9e4",
      "6ed1daf25cdc4edc8c350d85fbf1cad0",
      "2cc7a1f9a50c4eefa044c82c32b11f20",
      "f9f21813853e47f4b98fc3ef2854a4be",
      "77ba7de43e8045319cdc032a6c84df54",
      "b8111ea972a9446fa1f36c03c366203c",
      "d132fcebd5f04d43a82587eeaca4b856",
      "87342b291c854161bb5abd8e82025410",
      "d2d99ea6049e45fcb2d5f1bfcd3413ec",
      "0066cfd74ee14f28aab1508330ae5549",
      "76a7c396a6934326b7914012ce3a6f84",
      "e1359afb7e74444a84b41b26b20caf0f",
      "d3238438203e43e99d6a7c953388eac2",
      "ed44b765a7f64b8d89f2d49eb137ab13",
      "2107283fec314d0c818832b48696b6db",
      "962c2eebb4a248c189dc9f05f0131cea",
      "e49665348f67445eb363dce13c1ede71",
      "c2b2de21a74c431c9b63b942fec16c04",
      "2724f81ade0e45e79911d85b1e6993b2",
      "41656bdb8cee4759aced5adddc708a28",
      "f5701c3ed29e4bb3a7b691f941dbea24",
      "1cc1d7e7950f4b8faae4d835e1047544",
      "9d3695a687294e4d858f742cb76e229d",
      "80418fcb47944bc2a1ecbf13f12db3e1",
      "e074f427909f47f28c84caa311e1272e",
      "223725e3567e4e029498de3480efb247",
      "0bbb2535167744b8b68ea9651e594143",
      "ee888af480ce488994d6f1b780a7116e",
      "dd07d26ff66549d5bcb9c751e40f2a10",
      "76161233f0984a819e6360d7d721c91d",
      "0e4c9f1c162846f19212692c896e25dc",
      "0c5375c5e98a4504bb81ecefde3117f4",
      "e36477c568aa442293b5084877b24a01",
      "e80842d596524d3f8002d00cf0587a59",
      "041e422a496f47338fb0e78734f3cacc",
      "64f44713d8ce47ce9dff47d779fbd697",
      "7a8ada9387e7486fb02571d9c934875c",
      "2a82ea0827e7462bba4e6c18da126b9b",
      "65467af59d4a42fabf809e5a1506da73",
      "85fc36210212489aa4b3ac22d1da7bd4",
      "ad0c0ccd92424ae59e6c896a73f6d335",
      "fd85244648174523b588a5699792faff",
      "759183490ed641f9905e6545c3c5153e",
      "c5865fb5d553415a977335533c07f8e3",
      "6a4ab2bcc3dd43a695871e69bea139cb",
      "5246966907704892804a7098a7a67896",
      "253932bb5906456dac350b3df744d5d9",
      "a2a48ab8a6ce4ad7ab22f964929d98aa",
      "6d99aac589ed46fa8239ed500ea3dac9",
      "4e218f76f0ed4af784af0beac0d659fa",
      "8e499e5986e8408494230e09d5b0df94",
      "404ce74935954bcc9b1981ec96b4dccf",
      "8283db0088ae42d28aefaa0447ea2c05",
      "396329fba99b4e0985282d5e82ba9bd8",
      "f91035b1d8794fe492c0f845a2491d2a",
      "aab1857b1aa94808a599046a679fe74e",
      "4e4eb9b5c8fe4a2cac704d4726daae83",
      "6c5a1f75a6fe454f93bb0829dbce1a6f",
      "287ac101c37b4399a70ebafb4cd1e7ee",
      "adad044874a248538fc459f8f5c072eb",
      "cf60a4abd59f44e78b41ad2bbb3179a0",
      "bbee0f85a6214955ba825d3cd0155aa2",
      "b6dc42a320774488852db3a7652b43aa",
      "85b2bbf254bd408f95d9579eca23e558",
      "a367a6e0640f49b9a6292b14d3e8d8ae",
      "ba5301e23a2440379eeccfc87f03c2f2",
      "1b50e201e6c745978425d7bc0c66edcf",
      "17d9e4e51e8f473093e368e28a0db4bc",
      "8e49e49178f54ab987b16f7167ac8256",
      "8d2d35ccf8314051a0e8c414d62f3a79",
      "d4739413497d4068ae16c0ad643875a7",
      "0178871d001e4407af4d5f81ab526ea2",
      "f706d4e3d2054e1d8426de2a1f3e906a",
      "1ca8fa4eae534ae9aa6e94f66dc2bfc1",
      "6b1ef1a0764d46c5814560fc9f8b4f2d",
      "8ada37653503460396511bf7dcea37ac",
      "7ffbfb37dd564ae7a6f3eded04125bb2",
      "854347dc2dc945cb938a1a4a49beb6f7",
      "43af6be43e294c50a930766017b3fe22",
      "1fc6a4c28f974a969db89cd512913abe",
      "7145ab4d81c2464592f9e453458c6749",
      "854526a087574b4d9398aa4dd91188b4",
      "9c291c2c30174eebaf12b6632f013f5b",
      "a5427b93f7dd487bad62ba104dc26710",
      "bb3cea9908a34d6a87ced32a67221481"
     ]
    },
    "id": "4DRQcxEtCEfV",
    "outputId": "3450c7ac-58bc-470f-9211-0e9384a178ef"
   },
   "outputs": [],
   "source": [
    "from sentence_transformers import SentenceTransformer\n",
    "\n",
    "model = SentenceTransformer(\"sentence-transformers/all-mpnet-base-v2\")\n",
    "train_embeddings = model.encode(data[\"train\"][\"text\"], show_progress_bar=True)\n",
    "test_embeddings = model.encode(data[\"test\"][\"text\"], show_progress_bar=True)"
   ]
  },
  {
   "cell_type": "code",
   "execution_count": null,
   "metadata": {
    "colab": {
     "base_uri": "https://localhost:8080/",
     "height": 80
    },
    "id": "VUtcE7GnCrsL",
    "outputId": "1f9dbc30-ec35-4ac3-d2b5-edcc640ae84a"
   },
   "outputs": [],
   "source": [
    "from sklearn.linear_model import LogisticRegression\n",
    "\n",
    "clf = LogisticRegression(random_state =42)\n",
    "clf.fit(train_embeddings, data[\"train\"][\"label\"])"
   ]
  },
  {
   "cell_type": "code",
   "execution_count": null,
   "metadata": {
    "colab": {
     "base_uri": "https://localhost:8080/"
    },
    "id": "MKSFDdPiC2Lx",
    "outputId": "f01ec894-8d9b-4779-e794-de30132c348e"
   },
   "outputs": [],
   "source": [
    "y_pred = clf.predict(test_embeddings)\n",
    "evaluate_per(data[\"test\"][\"label\"], y_pred)"
   ]
  },
  {
   "cell_type": "code",
   "execution_count": null,
   "metadata": {
    "id": "6yynKpClVWsA"
   },
   "outputs": [],
   "source": [
    "label_embeddigs = model.encode([\"A Negative review\", \"A positive review\"])\n"
   ]
  },
  {
   "cell_type": "code",
   "execution_count": null,
   "metadata": {
    "colab": {
     "base_uri": "https://localhost:8080/"
    },
    "id": "uV2mN0EtVnke",
    "outputId": "f1e46404-726e-4325-8923-fea2b1c75934"
   },
   "outputs": [],
   "source": [
    "from sklearn.metrics.pairwise import cosine_similarity\n",
    "\n",
    "sim_matrix =cosine_similarity(test_embeddings, label_embeddigs)\n",
    "y_pred = np.argmax(sim_matrix, axis=1)\n",
    "evaluate_per(data[\"test\"][\"label\"], y_pred)"
   ]
  },
  {
   "cell_type": "code",
   "execution_count": null,
   "metadata": {
    "colab": {
     "base_uri": "https://localhost:8080/",
     "height": 259,
     "referenced_widgets": [
      "9feafdd05f984282ab8c8c8aad41a2ea",
      "52b514f3774947bfb1cf5841c4910dab",
      "fd97a6c7c1a34441a6fdb7eaf7a6d54c",
      "3bfc2889ac9d425d9661883250f05434",
      "8d8bf2ef720a4b0a9f506e534b35eb6b",
      "d14d96b416614df9bf0e76c609c8787e",
      "35594e64d27c4b4a950d9d74d2e647ad",
      "611fd9ca4de840488a68d9047d0a9440",
      "65137244f5d645f08547a147e47520f5",
      "c8498690de7c46d0a80ee1ea4ca514d4",
      "77a683b600e949d0b2b10bd1b3eea0c4",
      "551d6ac2430b4d018ddecfabb571faf1",
      "888e67c5cb8a4ecb97f1c65865971487",
      "8f382c297acf4a4e95b5106d25b5a567",
      "183db5721fcb448984bfbc4ae4daf44e",
      "d4b19c5d58b24a2d8a5bc8818677c552",
      "049b0e749b04427b98e86c074d48c0ae",
      "783efe3c34ae481ba0e11c7c2ca538fc",
      "92b82450d7d849ef808fdea4071a5159",
      "0a1a209d1528486f813cba6883abd5bf",
      "c411644b4a9a4c0cb63dc8ba20a820a0",
      "31ff813e3d1041e1bec45991d1cd9bf8",
      "276dc730ef1d49d88be90e725acfe186",
      "525626f4b86a4bc7a18f392b7fd5b06a",
      "0dee5a5bf93345edb827f8d29f177aad",
      "91faae33ebb04bb6a834b94cd3cab482",
      "dcbbeaf32c7843978d16dbd8f921875c",
      "65cb4352c0644cb7840d2269ac5f6f1a",
      "fc4ef618631e4564927878174237ab28",
      "32273370d03343d7879c39d92599ea0a",
      "efcf1bfd554a4733bc2d214e15a85154",
      "e72899b6c9cc40df808829c0b549ebff",
      "f3fef44819c34c0ca75bd41bb1192733",
      "65b46347b7874258b1271b805103e30c",
      "dfb0c255a3d640559ada3126ccc4da3b",
      "ed6e2eee26d64a058df7eaf7f00b8589",
      "7b3878a860904e0aa6c482db4ae7b1e0",
      "8aec946b1b4642899ec99864434a9aa3",
      "97e515e690a54007b3eb7e245067fc71",
      "4a32225419c544c09e3398f05c674002",
      "8d5b72d0f72d480eb686546faab2fec2",
      "b6f36167196c4d4b9bfb63c398cdc881",
      "c6029ae569b349a3b0ed9a796f8ea675",
      "0db9084445e94b5ba5cc65b8caf2789f",
      "4812af02925445399f74ea4d2b9ba27e",
      "2748d5fc81814891805098bab6891617",
      "8412df1fe4424805a1de6611eb093f88",
      "1936271f9d1e4ff2b1a1f83e81a3b101",
      "c4fd97db99c741fea92762c1b9df74cd",
      "beb4cc7296aa4ba4a546dc3704f6daa9",
      "6a71247d9d1a412fae5f34306b0281d8",
      "88838c8f08f8467daee2911b57e5db6b",
      "c7980d6ff5e742f587562bc99e2b2940",
      "8d95795889c7448b9e0aaf1711db47c6",
      "4113b33b981044fd8124e359b7171a5a",
      "234e18ab7f7d4df6b179b76ca24f3cb2",
      "15cb07b553e74361beba00c3841572d1",
      "9b2afedef7aa4441b4feed01fe5cffe5",
      "33075d2d8d3145aaac667424949e1823",
      "bd115dfc21fb40b7a1ba3c4911b466ce",
      "32b3f9c4482948049a5ca614d1b77b25",
      "a6b7d1d8f7ac44e1a8e582e96c088d92",
      "d5eaaafb712c47188cdf1f8d5a94e2d0",
      "34686d530e9443889437657911c442de",
      "16c7a7d098ef479a80283230e530ea4c",
      "4051893f0c074417bde215d91dc0acaf",
      "9221af9ccd0648ada4085c45b2ae498f",
      "9ec9d679f5a44a64a3c00da2aa36aea1",
      "b8ea476d52d8451d8363c00b1befe865",
      "553239dbb91540e2bd0d83d4749102f1",
      "264af3ab4863472082a439f234f6698a",
      "2590675463764b148ac7a4a99233ee03",
      "16b89d4e7544486a8421a8914b3bfb48",
      "8fa7df5922c049ca97fa7640d8a4fd69",
      "cbcc68bf8eb54c7b8e458c921d68dbd9",
      "87634e404fc44c75851e8bd1950344a8",
      "71e132c765824f1ba7d57b65b0b547d8"
     ]
    },
    "id": "Ku14VKo2Xi2J",
    "outputId": "6f3400eb-0ebf-4e60-c6b8-946a385f2e60"
   },
   "outputs": [],
   "source": [
    "pipe = pipeline(\"text2text-generation\", model = \"google/flan-t5-small\", device =\"cuda:0\")\n"
   ]
  },
  {
   "cell_type": "code",
   "execution_count": null,
   "metadata": {
    "colab": {
     "base_uri": "https://localhost:8080/",
     "height": 363,
     "referenced_widgets": [
      "1e3b05f230e64f48a308efa2787655de",
      "8aceb6ff4b0b4dfb888108b375000455",
      "12ec815699064d269dea4c5f1453fa6d",
      "4c86cd835c004e55b31ff6bfa4c3b737",
      "f3f71bcfdefa4bd6bd3dd76b1b09d204",
      "ff21d369f73a49729d473bb3c5141ba8",
      "3252fed5ff61440a885209801d4993f5",
      "52b06693840a457eb456e88de0748808",
      "e7fb779c996f454baea545c98e5c01b8",
      "a1c02780796545719a5affae9a78168d",
      "08cf12f6d9994ee091465c1d354e5a83",
      "48d2c4f86f5e44ccb47b96727d53bf15",
      "1855b0a8302a495bbde9157bbbfeecc0",
      "1e27125efec44120aefadac1af8667e1",
      "22ebf85b117d45529ba6963f925978af",
      "f69c8213cdc04b1397e7d94641c8facb",
      "0ad64ba96ec042b5acfb92509fbc0e6c",
      "d53fa2f0eddd4561a4a28faacc1ee2b5",
      "94435d6500e44e2cadd13e88fc7ea075",
      "6709b9b5dcc34839bce2f165d1ee6c71",
      "e37827d44c204b4f842a4f38c205012a",
      "ec13031a3a0d45baa65c1488e0b48eb0",
      "a5ecc311e49e48ee825fa21044a0a215",
      "707f8520c2b44c9d8eaaea0e6fdec7f4",
      "0c4a1ce795a14868b37c07fc8962e832",
      "b5bae67841a14b61b99694a5ebf0624e",
      "6362fdfd03ed4749ae932916d51f573a",
      "8c28134f1f8c4f7fa06e38c91ca64e6c",
      "0a53a3c421384b2a811b481d089f3c02",
      "e77b5ed54fbf4aca8d170609d6ddbdf8",
      "ac454e3c46ed47ed816be5e19958193c",
      "bce48c96aa334cbf98d7987089474392",
      "3fdb241d86aa467a8788add2864b2524"
     ]
    },
    "id": "vEIB_7w-X-nd",
    "outputId": "daa55dba-a4e1-4610-a4b4-4068e9785850"
   },
   "outputs": [],
   "source": [
    "prompt =\"is the following sentence positive or negative?\"\n",
    "data = data.map(lambda example:{\"t5\":prompt + example[\"text\"]})\n",
    "data"
   ]
  },
  {
   "cell_type": "code",
   "execution_count": null,
   "metadata": {
    "colab": {
     "base_uri": "https://localhost:8080/"
    },
    "id": "EhZvtN0FYoE0",
    "outputId": "e9a7f21d-4532-4cb1-c177-74b53371c8e4"
   },
   "outputs": [],
   "source": [
    "y_pred= []\n",
    "for output in tqdm(pipe(KeyDataset(data[\"test\"], \"t5\")),total = len(data[\"test\"])):\n",
    "  text = output[0][\"generated_text\"]\n",
    "  y_pred.append(0 if text == \"negative\" else 1)\n",
    "evaluate_per(data[\"test\"][\"label\"], y_pred)\n"
   ]
  }
 ],
 "metadata": {
  "accelerator": "GPU",
  "colab": {
   "gpuType": "T4",
   "provenance": []
  },
  "kernelspec": {
   "display_name": "Python 3",
   "name": "python3"
  },
  "language_info": {
   "name": "python"
  }
 },
 "nbformat": 4,
 "nbformat_minor": 0
}
